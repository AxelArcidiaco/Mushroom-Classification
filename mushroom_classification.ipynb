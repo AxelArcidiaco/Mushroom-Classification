{
 "cells": [
  {
   "cell_type": "markdown",
   "metadata": {},
   "source": [
    "# Importation des librairies et du dataset"
   ]
  },
  {
   "cell_type": "code",
   "execution_count": 2,
   "metadata": {},
   "outputs": [],
   "source": [
    "import os\n",
    "import pandas as pd\n",
    "import numpy as np"
   ]
  },
  {
   "cell_type": "code",
   "execution_count": 3,
   "metadata": {},
   "outputs": [],
   "source": [
    "from pyspark import SparkConf, SparkContext\n",
    "from pyspark.sql import SparkSession, SQLContext\n",
    "\n",
    "from pyspark.sql.types import *\n",
    "import pyspark.sql.functions as F\n",
    "from pyspark.sql.functions import udf, col\n",
    "\n",
    "from pyspark.ml.regression import LinearRegression\n",
    "from pyspark.mllib.evaluation import RegressionMetrics\n",
    "\n",
    "from pyspark.ml.tuning import ParamGridBuilder, CrossValidator, CrossValidatorModel\n",
    "from pyspark.ml.feature import VectorAssembler, StandardScaler\n",
    "from pyspark.ml.evaluation import RegressionEvaluator"
   ]
  },
  {
   "cell_type": "code",
   "execution_count": 4,
   "metadata": {},
   "outputs": [],
   "source": [
    "import seaborn as sns\n",
    "import matplotlib.pyplot as plt"
   ]
  },
  {
   "cell_type": "markdown",
   "metadata": {},
   "source": [
    "# Démarage de PySpark"
   ]
  },
  {
   "cell_type": "code",
   "execution_count": 9,
   "metadata": {},
   "outputs": [],
   "source": [
    "spark = SparkSession.builder.master(\"local[2]\").appName(\"mushroom_classification\").getOrCreate()"
   ]
  },
  {
   "cell_type": "code",
   "execution_count": 10,
   "metadata": {},
   "outputs": [
    {
     "data": {
      "text/html": [
       "\n",
       "            <div>\n",
       "                <p><b>SparkSession - in-memory</b></p>\n",
       "                \n",
       "        <div>\n",
       "            <p><b>SparkContext</b></p>\n",
       "\n",
       "            <p><a href=\"http://PC-Axel-Arc:4040\">Spark UI</a></p>\n",
       "\n",
       "            <dl>\n",
       "              <dt>Version</dt>\n",
       "                <dd><code>v3.4.1</code></dd>\n",
       "              <dt>Master</dt>\n",
       "                <dd><code>local[2]</code></dd>\n",
       "              <dt>AppName</dt>\n",
       "                <dd><code>mushroom_classification</code></dd>\n",
       "            </dl>\n",
       "        </div>\n",
       "        \n",
       "            </div>\n",
       "        "
      ],
      "text/plain": [
       "<pyspark.sql.session.SparkSession at 0x2a28be4a280>"
      ]
     },
     "execution_count": 10,
     "metadata": {},
     "output_type": "execute_result"
    }
   ],
   "source": [
    "spark"
   ]
  },
  {
   "cell_type": "code",
   "execution_count": 11,
   "metadata": {},
   "outputs": [
    {
     "data": {
      "text/html": [
       "\n",
       "        <div>\n",
       "            <p><b>SparkContext</b></p>\n",
       "\n",
       "            <p><a href=\"http://PC-Axel-Arc:4040\">Spark UI</a></p>\n",
       "\n",
       "            <dl>\n",
       "              <dt>Version</dt>\n",
       "                <dd><code>v3.4.1</code></dd>\n",
       "              <dt>Master</dt>\n",
       "                <dd><code>local[2]</code></dd>\n",
       "              <dt>AppName</dt>\n",
       "                <dd><code>mushroom_classification</code></dd>\n",
       "            </dl>\n",
       "        </div>\n",
       "        "
      ],
      "text/plain": [
       "<SparkContext master=local[2] appName=mushroom_classification>"
      ]
     },
     "execution_count": 11,
     "metadata": {},
     "output_type": "execute_result"
    }
   ],
   "source": [
    "sc = spark.sparkContext\n",
    "sc"
   ]
  },
  {
   "cell_type": "code",
   "execution_count": 12,
   "metadata": {},
   "outputs": [
    {
     "name": "stderr",
     "output_type": "stream",
     "text": [
      "c:\\Users\\TheAx\\anaconda3\\lib\\site-packages\\pyspark\\sql\\context.py:112: FutureWarning: Deprecated in 3.0.0. Use SparkSession.builder.getOrCreate() instead.\n",
      "  warnings.warn(\n"
     ]
    },
    {
     "data": {
      "text/plain": [
       "<pyspark.sql.context.SQLContext at 0x2a28bb41dc0>"
      ]
     },
     "execution_count": 12,
     "metadata": {},
     "output_type": "execute_result"
    }
   ],
   "source": [
    "sqlContext = SQLContext(spark.sparkContext)\n",
    "sqlContext"
   ]
  },
  {
   "cell_type": "markdown",
   "metadata": {},
   "source": [
    "# Chargement de la data dans PySpark"
   ]
  },
  {
   "cell_type": "code",
   "execution_count": 14,
   "metadata": {},
   "outputs": [],
   "source": [
    "MUSHROOM_DATA = \"./mushrooms.csv\"\n",
    "\n",
    "# Attribute Information:\n",
    "# \t- classes: edible=e,  poisonous=p\n",
    "# \t- cap-shape: bell=b, conical=c, convex=x, flat=f,  knobbed=k, sunken=s\n",
    "# \t- cap-surface: fibrous=f, grooves=g, scaly=y, smooth=s\n",
    "# \t- cap-color: brown=n, buff=b, cinnamon=c, gray=g, green=r, pink=p, purple=u, red=e, white=w, yellow=y\n",
    "# \t- bruises: bruises=t, no=f\n",
    "# \t- odor: almond=a, anise=l, creosote=c, fishy=y, foul=f, musty=m, none=n, pungent=p, spicy=s\n",
    "# \t- gill-attachment: attached=a, descending=d, free=f, notched=n\n",
    "# \t- gill-spacing: close=c, crowded=w, distant=d\n",
    "# \t- gill-size: broad=b, narrow=n\n",
    "# \t- gill-color: black=k, brown=n, buff=b, chocolate=h, gray=g,  green=r, orange=o, pink=p, purple=u, red=e, white=w, yellow=y\n",
    "# \t- stalk-shape: enlarging=e, tapering=t\n",
    "# \t- stalk-root: bulbous=b, club=c, cup=u, equal=e, rhizomorphs=z, rooted=r, missing=?\n",
    "# \t- stalk-surface-above-ring: fibrous=f, scaly=y, silky=k, smooth=s\n",
    "# \t- stalk-surface-below-ring: fibrous=f, scaly=y, silky=k, smooth=s\n",
    "# \t- stalk-color-above-ring: brown=n, buff=b, cinnamon=c, gray=g, orange=o, pink=p, red=e, white=w, yellow=y\n",
    "# \t- stalk-color-below-ring: brown=n, buff=b, cinnamon=c, gray=g, orange=o, pink=p, red=e, white=w, yellow=y\n",
    "# \t- veil-type: partial=p, universal=u\n",
    "# \t- veil-color: brown=n, orange=o, white=w, yellow=y\n",
    "# \t- ring-number: none=n, one=o, two=t\n",
    "# \t- ring-type: cobwebby=c, evanescent=e, flaring=f, large=l, none=n, pendant=p, sheathing=s, zone=z\n",
    "# \t- spore-print-color: black=k, brown=n, buff=b, chocolate=h, green=r, orange=o, purple=u, white=w, yellow=y\n",
    "# \t- population: abundant=a, clustered=c, numerous=n, scattered=s, several=v, solitary=y\n",
    "# \t- habitat: grasses=g, leaves=l, meadows=m, paths=p, urban=u, waste=w, woods=d"
   ]
  },
  {
   "cell_type": "code",
   "execution_count": 22,
   "metadata": {},
   "outputs": [],
   "source": [
    "# Définition du schéma de la table\n",
    "schema = schema = StructType([\n",
    "    StructField(\"class\", StringType(), nullable=True),\n",
    "    StructField(\"cap-shape\", StringType(), nullable=True),\n",
    "    StructField(\"cap-surface\", StringType(), nullable=True),\n",
    "    StructField(\"cap-color\", StringType(), nullable=True),\n",
    "    StructField(\"odor\", StringType(), nullable=True),\n",
    "    StructField(\"gill-attachment\", StringType(), nullable=True),\n",
    "    StructField(\"gill-spacing\", StringType(), nullable=True),\n",
    "    StructField(\"gill-size\", StringType(), nullable=True),\n",
    "    StructField(\"gill-color\", StringType(), nullable=True),\n",
    "    StructField(\"stalk-shape\", StringType(), nullable=True),\n",
    "    StructField(\"stalk-root\", StringType(), nullable=True),\n",
    "    StructField(\"stalk-surface-above-ring\", StringType(), nullable=True),\n",
    "    StructField(\"stalk-surface-below-ring\", StringType(), nullable=True),\n",
    "    StructField(\"stalk-color-above-ring\", StringType(), nullable=True),\n",
    "    StructField(\"stalk-color-below-ring\", StringType(), nullable=True),\n",
    "    StructField(\"veil-type\", StringType(), nullable=True),\n",
    "    StructField(\"veil-color\", StringType(), nullable=True),\n",
    "    StructField(\"ring-number\", StringType(), nullable=True),\n",
    "    StructField(\"ring-type\", StringType(), nullable=True),\n",
    "    StructField(\"spore-print-color\", StringType(), nullable=True),\n",
    "    StructField(\"population\", StringType(), nullable=True),\n",
    "    StructField(\"habitat\", StringType(), nullable=True)\n",
    "])"
   ]
  },
  {
   "cell_type": "code",
   "execution_count": 23,
   "metadata": {},
   "outputs": [],
   "source": [
    "mushroom_df = spark.read.csv(path=MUSHROOM_DATA, schema=schema).cache()"
   ]
  },
  {
   "cell_type": "code",
   "execution_count": 24,
   "metadata": {},
   "outputs": [
    {
     "data": {
      "text/plain": [
       "[Row(class='class', cap-shape='cap-shape', cap-surface='cap-surface', cap-color='cap-color', odor='bruises', gill-attachment='odor', gill-spacing='gill-attachment', gill-size='gill-spacing', gill-color='gill-size', stalk-shape='gill-color', stalk-root='stalk-shape', stalk-surface-above-ring='stalk-root', stalk-surface-below-ring='stalk-surface-above-ring', stalk-color-above-ring='stalk-surface-below-ring', stalk-color-below-ring='stalk-color-above-ring', veil-type='stalk-color-below-ring', veil-color='veil-type', ring-number='veil-color', ring-type='ring-number', spore-print-color='ring-type', population='spore-print-color', habitat='population'),\n",
       " Row(class='p', cap-shape='x', cap-surface='s', cap-color='n', odor='t', gill-attachment='p', gill-spacing='f', gill-size='c', gill-color='n', stalk-shape='k', stalk-root='e', stalk-surface-above-ring='e', stalk-surface-below-ring='s', stalk-color-above-ring='s', stalk-color-below-ring='w', veil-type='w', veil-color='p', ring-number='w', ring-type='o', spore-print-color='p', population='k', habitat='s'),\n",
       " Row(class='e', cap-shape='x', cap-surface='s', cap-color='y', odor='t', gill-attachment='a', gill-spacing='f', gill-size='c', gill-color='b', stalk-shape='k', stalk-root='e', stalk-surface-above-ring='c', stalk-surface-below-ring='s', stalk-color-above-ring='s', stalk-color-below-ring='w', veil-type='w', veil-color='p', ring-number='w', ring-type='o', spore-print-color='p', population='n', habitat='n'),\n",
       " Row(class='e', cap-shape='b', cap-surface='s', cap-color='w', odor='t', gill-attachment='l', gill-spacing='f', gill-size='c', gill-color='b', stalk-shape='n', stalk-root='e', stalk-surface-above-ring='c', stalk-surface-below-ring='s', stalk-color-above-ring='s', stalk-color-below-ring='w', veil-type='w', veil-color='p', ring-number='w', ring-type='o', spore-print-color='p', population='n', habitat='n'),\n",
       " Row(class='p', cap-shape='x', cap-surface='y', cap-color='w', odor='t', gill-attachment='p', gill-spacing='f', gill-size='c', gill-color='n', stalk-shape='n', stalk-root='e', stalk-surface-above-ring='e', stalk-surface-below-ring='s', stalk-color-above-ring='s', stalk-color-below-ring='w', veil-type='w', veil-color='p', ring-number='w', ring-type='o', spore-print-color='p', population='k', habitat='s')]"
      ]
     },
     "execution_count": 24,
     "metadata": {},
     "output_type": "execute_result"
    }
   ],
   "source": [
    "mushroom_df.take(5)"
   ]
  },
  {
   "cell_type": "code",
   "execution_count": 25,
   "metadata": {},
   "outputs": [
    {
     "name": "stdout",
     "output_type": "stream",
     "text": [
      "+-----+---------+-----------+---------+-------+---------------+---------------+------------+----------+-----------+-----------+------------------------+------------------------+----------------------+----------------------+--------------------+----------+-----------+-----------+-----------------+-----------------+----------+\n",
      "|class|cap-shape|cap-surface|cap-color|   odor|gill-attachment|   gill-spacing|   gill-size|gill-color|stalk-shape| stalk-root|stalk-surface-above-ring|stalk-surface-below-ring|stalk-color-above-ring|stalk-color-below-ring|           veil-type|veil-color|ring-number|  ring-type|spore-print-color|       population|   habitat|\n",
      "+-----+---------+-----------+---------+-------+---------------+---------------+------------+----------+-----------+-----------+------------------------+------------------------+----------------------+----------------------+--------------------+----------+-----------+-----------+-----------------+-----------------+----------+\n",
      "|class|cap-shape|cap-surface|cap-color|bruises|           odor|gill-attachment|gill-spacing| gill-size| gill-color|stalk-shape|              stalk-root|    stalk-surface-abo...|  stalk-surface-bel...|  stalk-color-above...|stalk-color-below...| veil-type| veil-color|ring-number|        ring-type|spore-print-color|population|\n",
      "|    p|        x|          s|        n|      t|              p|              f|           c|         n|          k|          e|                       e|                       s|                     s|                     w|                   w|         p|          w|          o|                p|                k|         s|\n",
      "|    e|        x|          s|        y|      t|              a|              f|           c|         b|          k|          e|                       c|                       s|                     s|                     w|                   w|         p|          w|          o|                p|                n|         n|\n",
      "|    e|        b|          s|        w|      t|              l|              f|           c|         b|          n|          e|                       c|                       s|                     s|                     w|                   w|         p|          w|          o|                p|                n|         n|\n",
      "|    p|        x|          y|        w|      t|              p|              f|           c|         n|          n|          e|                       e|                       s|                     s|                     w|                   w|         p|          w|          o|                p|                k|         s|\n",
      "+-----+---------+-----------+---------+-------+---------------+---------------+------------+----------+-----------+-----------+------------------------+------------------------+----------------------+----------------------+--------------------+----------+-----------+-----------+-----------------+-----------------+----------+\n",
      "only showing top 5 rows\n",
      "\n"
     ]
    }
   ],
   "source": [
    "mushroom_df.show(5)"
   ]
  }
 ],
 "metadata": {
  "kernelspec": {
   "display_name": "base",
   "language": "python",
   "name": "python3"
  },
  "language_info": {
   "codemirror_mode": {
    "name": "ipython",
    "version": 3
   },
   "file_extension": ".py",
   "mimetype": "text/x-python",
   "name": "python",
   "nbconvert_exporter": "python",
   "pygments_lexer": "ipython3",
   "version": "3.9.13"
  },
  "orig_nbformat": 4
 },
 "nbformat": 4,
 "nbformat_minor": 2
}
